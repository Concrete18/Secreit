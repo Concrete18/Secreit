{
 "cells": [
  {
   "cell_type": "code",
   "execution_count": 41,
   "metadata": {},
   "outputs": [],
   "source": [
    "import Secreit\n",
    "from matplotlib import pyplot as plt\n",
    "import glob\n",
    "import numpy as np\n",
    "import os\n",
    "from keras.applications import VGG16\n",
    "from keras.callbacks import ModelCheckpoint\n",
    "from keras import models\n",
    "from keras import layers\n",
    "from keras import optimizers\n",
    "from keras.preprocessing import image"
   ]
  },
  {
   "cell_type": "markdown",
   "metadata": {},
   "source": [
    "# Training\n",
    "## Step1: Split images and save them\n",
    "## Step2: Training the last 2 layers\n",
    "## Step3: Training 100 epochs"
   ]
  },
  {
   "cell_type": "raw",
   "metadata": {},
   "source": [
    "## directori\n",
    "<br>*/data<br>",
    "         ├ /train<br>",
    "         │       └/D<br>",
    "         │              └/~.png<br>",
    "         │              └/~.png        <br>",
    "         │                          .<br>",
    "         │                          .<br>",
    "         │                          .        <br>",
    "         │       └/E<br>",
    "         │       └/P<br>",
    "         ├ /validation<br>",
    "         │       └/D<br>",
    "         │       └/E<br>",
    "         │       └/P<br>",
    "         ├ /teat<br>",
    "         │       └/D<br>",
    "         │       └/E<br>",
    "         │       └/P<br>",
    "         │                   <br>",
    "         ├ /split_train<br>",
    "         ├ /split_validation<br>",
    "         ├ /split_test<br>",
    "         ├ /last_layer_lerning<br>",
    "         ├ /all_tuning<br>"
   ]
  },
  {
   "cell_type": "code",
   "execution_count": null,
   "metadata": {},
   "outputs": [],
   "source": [
    "# Step1\n",
    "for dataset in [\"train\", \"validation\", \"test\"]:\n",
    "    for satge in [\"D\", \"E\", \"P\"]:\n",
    "        for path in glob.glob(\"*/data/\"+dataset+\"/\"+stage+\"/*.png\"):\n",
    "            img_id=os.path.basename(path)[:-4]\n",
    "            img=image.load_img(path, target_size=(480, 640) )\n",
    "            img1=image.img_to_array(img)[:240, :320]\n",
    "            img2=image.img_to_array(img)[240:480, :320]\n",
    "            img3=image.img_to_array(img)[:240, 320:640]\n",
    "            img4=image.img_to_array(img)[240:480, 320:640]\n",
    "            \n",
    "            image.save_img(\"*/data/split_\"+dataset+\"/\"+stage+\"/\"+img_id+\"_1.png\",  img1)\n",
    "            image.save_img(\"*/data/split_\"+dataset+\"/\"+stage+\"/\"+img_id+\"_2.png\",  img2)\n",
    "            image.save_img(\"*/data/split_\"+dataset+\"/\"+stage+\"/\"+img_id+\"_3.png\",  img3)\n",
    "            image.save_img(\"*/data/split_\"+dataset+\"/\"+stage+\"/\"+img_id+\"_4.png\",  img4)"
   ]
  },
  {
   "cell_type": "code",
   "execution_count": 2,
   "metadata": {},
   "outputs": [],
   "source": [
    "# Step 2\n",
    "trainD=glob.glob(\"*/data/split_train/D/*.png\")\n",
    "trainE= glob.glob(\"*/data/split_train/E/*.png\")\n",
    "trainP= glob.glob(\"*/data/split_train/P/*.png\")\n",
    "\n",
    "valD=glob.glob(\"*/data/split_validation/D/*.png\")\n",
    "valE=glob.glob(\"*/data/split_validation/E/*.png\")\n",
    "valP=glob.glob(\"*/data/split_validation/P/*.png\")"
   ]
  },
  {
   "cell_type": "code",
   "execution_count": 3,
   "metadata": {},
   "outputs": [],
   "source": [
    "train_datagen =Secreit.TrainGenerator(trainD, trainE, trainP)\n",
    "val_datagen =Secreit.ValidationGenerator(valD, valE, valP)"
   ]
  },
  {
   "cell_type": "code",
   "execution_count": 4,
   "metadata": {},
   "outputs": [],
   "source": [
    "conv_base=VGG16(weights='imagenet',\n",
    "include_top=False,\n",
    "input_shape=(240, 320, 3))\n",
    "conv_base.trainable=False\n",
    "\n",
    "model = models.Sequential()\n",
    "model.add(conv_base)\n",
    "model.add(layers.Flatten())\n",
    "model.add(layers.Dropout(0.2))\n",
    "model.add(layers.Dense(500, activation=\"relu\"))\n",
    "model.add(layers.Dropout(0.2))\n",
    "model.add(layers.Dense(3, activation=\"softmax\"))\n",
    "model.compile(loss='categorical_hinge',\n",
    "optimizer=optimizers.Nadam(lr=2e-5),\n",
    "metrics=['acc'])\n",
    "\n",
    "callbacks = list()\n",
    "callbacks.append(ModelCheckpoint(filepath=\"*/last_layer_lerning/weight_epoch{epoch:02d}-{val_loss:.2f}.h5\"))"
   ]
  },
  {
   "cell_type": "code",
   "execution_count": null,
   "metadata": {},
   "outputs": [],
   "source": [
    "history = model.fit_generator(\n",
    "    generator=train_datagen.flow_from_directory(),\n",
    "    steps_per_epoch=58,\n",
    "    validation_data=val_datagen.flow_from_directory(),\n",
    "    validation_steps=20,\n",
    "    callbacks=callbacks,\n",
    "    epochs=50)  "
   ]
  },
  {
   "cell_type": "code",
   "execution_count": null,
   "metadata": {},
   "outputs": [],
   "source": [
    "# Step 3\n",
    "## Lord the best parameter from */last_layer_lerning directori\n",
    "\n",
    "model.load_weights(\"*h5\")\n",
    "for l in model.layers:\n",
    "    l.trainable=True\n",
    "\n",
    "callbacks = list()\n",
    "callbacks.append(ModelCheckpoint(filepath=\"*/all_tuning/weight_epoch{epoch:02d}-{val_loss:.2f}.h5\"))\n",
    "\n",
    "history = model.fit_generator(\n",
    "    generator=train_datagen2.flow_from_directory(),\n",
    "    steps_per_epoch=58,\n",
    "    validation_data=test_datagen2.flow_from_directory(),\n",
    "    validation_steps=20,\n",
    "    callbacks=callbacks,\n",
    "    epochs=100)  "
   ]
  },
  {
   "cell_type": "code",
   "execution_count": null,
   "metadata": {},
   "outputs": [],
   "source": []
  }
 ],
 "metadata": {
  "kernelspec": {
   "display_name": "Python 3",
   "language": "python",
   "name": "python3"
  },
  "language_info": {
   "codemirror_mode": {
    "name": "ipython",
    "version": 3
   },
   "file_extension": ".py",
   "mimetype": "text/x-python",
   "name": "python",
   "nbconvert_exporter": "python",
   "pygments_lexer": "ipython3",
   "version": "3.6.12"
  }
 },
 "nbformat": 4,
 "nbformat_minor": 2
}
